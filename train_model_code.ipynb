{
  "cells": [
    {
      "cell_type": "code",
      "execution_count": null,
      "metadata": {},
      "outputs": [],
      "source": [
        "import imghdr\n",
        "import glob\n",
        "import os\n",
        "\n",
        "for image in glob.glob('dataset/train/*/*.jpg'):\n",
        "    if imghdr.what(image) != 'jpeg':\n",
        "        print('removing {}'.format(image))\n",
        "        os.remove(image)\n",
        "\n",
        "for image in glob.glob('dataset/val/*/*.jpg'):\n",
        "    if imghdr.what(image) != 'jpeg':\n",
        "        print('removing {}'.format(image))\n",
        "        os.remove(image)"
      ]
    },
    {
      "cell_type": "code",
      "metadata": {
        "id": "k6gYYE0-TOYA",
        "colab_type": "code",
        "colab": {}
      },
      "source": [
        "import os\n",
        "\n",
        "root_path = 'dataset/'\n",
        "sample_path = 'sample_images/' # path to sample images use for testing the model\n",
        "labels = os.listdir(root_path+'train')  # names of the classes\n",
        "n_classes = len(labels) # number of classes\n",
        "img_width =  img_height = 299 # width and height of input image (must be 299x299)\n",
        "\n",
        "print(\"Total classes: {}\".format(n_classes))"
      ],
      "execution_count": 1,
      "outputs": [
        {
          "output_type": "stream",
          "name": "stdout",
          "text": "Total classes: 20\n"
        }
      ]
    },
    {
      "cell_type": "code",
      "metadata": {
        "id": "VQJEExy0T-EF",
        "colab_type": "code",
        "outputId": "de1e59cc-68e5-4e42-c02f-181bae4d2849",
        "colab": {
          "base_uri": "https://localhost:8080/",
          "height": 87
        }
      },
      "source": [
        "from keras.layers import GlobalAveragePooling2D, Dense, BatchNormalization, Dropout\n",
        "from keras.optimizers import Adam, SGD, RMSprop\n",
        "from keras.models import Model, Input\n",
        "from keras.applications import xception\n",
        "\n",
        "# create the base pre-trained model\n",
        "base_model = xception.Xception(weights='imagenet', include_top=False)\n",
        "\n",
        "# add a global spatial average pooling layer\n",
        "x = base_model.output\n",
        "x = BatchNormalization()(x)\n",
        "x = GlobalAveragePooling2D()(x)\n",
        "# let's add a fully-connected layer\n",
        "x = Dropout(0.5)(x)\n",
        "x = Dense(1024, activation='relu')(x)\n",
        "x = Dropout(0.5)(x)\n",
        "# and a logistic layer\n",
        "predictions = Dense(n_classes, activation='softmax')(x)\n",
        "\n",
        "# this is the model we will train\n",
        "model = Model(inputs=base_model.input, outputs=predictions)"
      ],
      "execution_count": 2,
      "outputs": [
        {
          "output_type": "stream",
          "name": "stderr",
          "text": "Using TensorFlow backend.\n"
        }
      ]
    },
    {
      "cell_type": "code",
      "metadata": {
        "id": "E-hRKniBUEIx",
        "colab_type": "code",
        "outputId": "27715cbc-36b4-4b1f-d8c9-fd3592ed523f",
        "colab": {
          "base_uri": "https://localhost:8080/",
          "height": 218
        },
        "tags": [
          "outputPrepend"
        ]
      },
      "source": [
        "# freeze all convolutional Xception layers\n",
        "for layer in base_model.layers:\n",
        "    layer.trainable = False\n",
        "\n",
        "model.summary()"
      ],
      "execution_count": 3,
      "outputs": [
        {
          "output_type": "stream",
          "name": "stdout",
          "text": "0][0]         \n__________________________________________________________________________________________________\nblock5_sepconv3 (SeparableConv2 (None, None, None, 7 536536      block5_sepconv3_act[0][0]        \n__________________________________________________________________________________________________\nblock5_sepconv3_bn (BatchNormal (None, None, None, 7 2912        block5_sepconv3[0][0]            \n__________________________________________________________________________________________________\nadd_4 (Add)                     (None, None, None, 7 0           block5_sepconv3_bn[0][0]         \n                                                                 add_3[0][0]                      \n__________________________________________________________________________________________________\nblock6_sepconv1_act (Activation (None, None, None, 7 0           add_4[0][0]                      \n__________________________________________________________________________________________________\nblock6_sepconv1 (SeparableConv2 (None, None, None, 7 536536      block6_sepconv1_act[0][0]        \n__________________________________________________________________________________________________\nblock6_sepconv1_bn (BatchNormal (None, None, None, 7 2912        block6_sepconv1[0][0]            \n__________________________________________________________________________________________________\nblock6_sepconv2_act (Activation (None, None, None, 7 0           block6_sepconv1_bn[0][0]         \n__________________________________________________________________________________________________\nblock6_sepconv2 (SeparableConv2 (None, None, None, 7 536536      block6_sepconv2_act[0][0]        \n__________________________________________________________________________________________________\nblock6_sepconv2_bn (BatchNormal (None, None, None, 7 2912        block6_sepconv2[0][0]            \n__________________________________________________________________________________________________\nblock6_sepconv3_act (Activation (None, None, None, 7 0           block6_sepconv2_bn[0][0]         \n__________________________________________________________________________________________________\nblock6_sepconv3 (SeparableConv2 (None, None, None, 7 536536      block6_sepconv3_act[0][0]        \n__________________________________________________________________________________________________\nblock6_sepconv3_bn (BatchNormal (None, None, None, 7 2912        block6_sepconv3[0][0]            \n__________________________________________________________________________________________________\nadd_5 (Add)                     (None, None, None, 7 0           block6_sepconv3_bn[0][0]         \n                                                                 add_4[0][0]                      \n__________________________________________________________________________________________________\nblock7_sepconv1_act (Activation (None, None, None, 7 0           add_5[0][0]                      \n__________________________________________________________________________________________________\nblock7_sepconv1 (SeparableConv2 (None, None, None, 7 536536      block7_sepconv1_act[0][0]        \n__________________________________________________________________________________________________\nblock7_sepconv1_bn (BatchNormal (None, None, None, 7 2912        block7_sepconv1[0][0]            \n__________________________________________________________________________________________________\nblock7_sepconv2_act (Activation (None, None, None, 7 0           block7_sepconv1_bn[0][0]         \n__________________________________________________________________________________________________\nblock7_sepconv2 (SeparableConv2 (None, None, None, 7 536536      block7_sepconv2_act[0][0]        \n__________________________________________________________________________________________________\nblock7_sepconv2_bn (BatchNormal (None, None, None, 7 2912        block7_sepconv2[0][0]            \n__________________________________________________________________________________________________\nblock7_sepconv3_act (Activation (None, None, None, 7 0           block7_sepconv2_bn[0][0]         \n__________________________________________________________________________________________________\nblock7_sepconv3 (SeparableConv2 (None, None, None, 7 536536      block7_sepconv3_act[0][0]        \n__________________________________________________________________________________________________\nblock7_sepconv3_bn (BatchNormal (None, None, None, 7 2912        block7_sepconv3[0][0]            \n__________________________________________________________________________________________________\nadd_6 (Add)                     (None, None, None, 7 0           block7_sepconv3_bn[0][0]         \n                                                                 add_5[0][0]                      \n__________________________________________________________________________________________________\nblock8_sepconv1_act (Activation (None, None, None, 7 0           add_6[0][0]                      \n__________________________________________________________________________________________________\nblock8_sepconv1 (SeparableConv2 (None, None, None, 7 536536      block8_sepconv1_act[0][0]        \n__________________________________________________________________________________________________\nblock8_sepconv1_bn (BatchNormal (None, None, None, 7 2912        block8_sepconv1[0][0]            \n__________________________________________________________________________________________________\nblock8_sepconv2_act (Activation (None, None, None, 7 0           block8_sepconv1_bn[0][0]         \n__________________________________________________________________________________________________\nblock8_sepconv2 (SeparableConv2 (None, None, None, 7 536536      block8_sepconv2_act[0][0]        \n__________________________________________________________________________________________________\nblock8_sepconv2_bn (BatchNormal (None, None, None, 7 2912        block8_sepconv2[0][0]            \n__________________________________________________________________________________________________\nblock8_sepconv3_act (Activation (None, None, None, 7 0           block8_sepconv2_bn[0][0]         \n__________________________________________________________________________________________________\nblock8_sepconv3 (SeparableConv2 (None, None, None, 7 536536      block8_sepconv3_act[0][0]        \n__________________________________________________________________________________________________\nblock8_sepconv3_bn (BatchNormal (None, None, None, 7 2912        block8_sepconv3[0][0]            \n__________________________________________________________________________________________________\nadd_7 (Add)                     (None, None, None, 7 0           block8_sepconv3_bn[0][0]         \n                                                                 add_6[0][0]                      \n__________________________________________________________________________________________________\nblock9_sepconv1_act (Activation (None, None, None, 7 0           add_7[0][0]                      \n__________________________________________________________________________________________________\nblock9_sepconv1 (SeparableConv2 (None, None, None, 7 536536      block9_sepconv1_act[0][0]        \n__________________________________________________________________________________________________\nblock9_sepconv1_bn (BatchNormal (None, None, None, 7 2912        block9_sepconv1[0][0]            \n__________________________________________________________________________________________________\nblock9_sepconv2_act (Activation (None, None, None, 7 0           block9_sepconv1_bn[0][0]         \n__________________________________________________________________________________________________\nblock9_sepconv2 (SeparableConv2 (None, None, None, 7 536536      block9_sepconv2_act[0][0]        \n__________________________________________________________________________________________________\nblock9_sepconv2_bn (BatchNormal (None, None, None, 7 2912        block9_sepconv2[0][0]            \n__________________________________________________________________________________________________\nblock9_sepconv3_act (Activation (None, None, None, 7 0           block9_sepconv2_bn[0][0]         \n__________________________________________________________________________________________________\nblock9_sepconv3 (SeparableConv2 (None, None, None, 7 536536      block9_sepconv3_act[0][0]        \n__________________________________________________________________________________________________\nblock9_sepconv3_bn (BatchNormal (None, None, None, 7 2912        block9_sepconv3[0][0]            \n__________________________________________________________________________________________________\nadd_8 (Add)                     (None, None, None, 7 0           block9_sepconv3_bn[0][0]         \n                                                                 add_7[0][0]                      \n__________________________________________________________________________________________________\nblock10_sepconv1_act (Activatio (None, None, None, 7 0           add_8[0][0]                      \n__________________________________________________________________________________________________\nblock10_sepconv1 (SeparableConv (None, None, None, 7 536536      block10_sepconv1_act[0][0]       \n__________________________________________________________________________________________________\nblock10_sepconv1_bn (BatchNorma (None, None, None, 7 2912        block10_sepconv1[0][0]           \n__________________________________________________________________________________________________\nblock10_sepconv2_act (Activatio (None, None, None, 7 0           block10_sepconv1_bn[0][0]        \n__________________________________________________________________________________________________\nblock10_sepconv2 (SeparableConv (None, None, None, 7 536536      block10_sepconv2_act[0][0]       \n__________________________________________________________________________________________________\nblock10_sepconv2_bn (BatchNorma (None, None, None, 7 2912        block10_sepconv2[0][0]           \n__________________________________________________________________________________________________\nblock10_sepconv3_act (Activatio (None, None, None, 7 0           block10_sepconv2_bn[0][0]        \n__________________________________________________________________________________________________\nblock10_sepconv3 (SeparableConv (None, None, None, 7 536536      block10_sepconv3_act[0][0]       \n__________________________________________________________________________________________________\nblock10_sepconv3_bn (BatchNorma (None, None, None, 7 2912        block10_sepconv3[0][0]           \n__________________________________________________________________________________________________\nadd_9 (Add)                     (None, None, None, 7 0           block10_sepconv3_bn[0][0]        \n                                                                 add_8[0][0]                      \n__________________________________________________________________________________________________\nblock11_sepconv1_act (Activatio (None, None, None, 7 0           add_9[0][0]                      \n__________________________________________________________________________________________________\nblock11_sepconv1 (SeparableConv (None, None, None, 7 536536      block11_sepconv1_act[0][0]       \n__________________________________________________________________________________________________\nblock11_sepconv1_bn (BatchNorma (None, None, None, 7 2912        block11_sepconv1[0][0]           \n__________________________________________________________________________________________________\nblock11_sepconv2_act (Activatio (None, None, None, 7 0           block11_sepconv1_bn[0][0]        \n__________________________________________________________________________________________________\nblock11_sepconv2 (SeparableConv (None, None, None, 7 536536      block11_sepconv2_act[0][0]       \n__________________________________________________________________________________________________\nblock11_sepconv2_bn (BatchNorma (None, None, None, 7 2912        block11_sepconv2[0][0]           \n__________________________________________________________________________________________________\nblock11_sepconv3_act (Activatio (None, None, None, 7 0           block11_sepconv2_bn[0][0]        \n__________________________________________________________________________________________________\nblock11_sepconv3 (SeparableConv (None, None, None, 7 536536      block11_sepconv3_act[0][0]       \n__________________________________________________________________________________________________\nblock11_sepconv3_bn (BatchNorma (None, None, None, 7 2912        block11_sepconv3[0][0]           \n__________________________________________________________________________________________________\nadd_10 (Add)                    (None, None, None, 7 0           block11_sepconv3_bn[0][0]        \n                                                                 add_9[0][0]                      \n__________________________________________________________________________________________________\nblock12_sepconv1_act (Activatio (None, None, None, 7 0           add_10[0][0]                     \n__________________________________________________________________________________________________\nblock12_sepconv1 (SeparableConv (None, None, None, 7 536536      block12_sepconv1_act[0][0]       \n__________________________________________________________________________________________________\nblock12_sepconv1_bn (BatchNorma (None, None, None, 7 2912        block12_sepconv1[0][0]           \n__________________________________________________________________________________________________\nblock12_sepconv2_act (Activatio (None, None, None, 7 0           block12_sepconv1_bn[0][0]        \n__________________________________________________________________________________________________\nblock12_sepconv2 (SeparableConv (None, None, None, 7 536536      block12_sepconv2_act[0][0]       \n__________________________________________________________________________________________________\nblock12_sepconv2_bn (BatchNorma (None, None, None, 7 2912        block12_sepconv2[0][0]           \n__________________________________________________________________________________________________\nblock12_sepconv3_act (Activatio (None, None, None, 7 0           block12_sepconv2_bn[0][0]        \n__________________________________________________________________________________________________\nblock12_sepconv3 (SeparableConv (None, None, None, 7 536536      block12_sepconv3_act[0][0]       \n__________________________________________________________________________________________________\nblock12_sepconv3_bn (BatchNorma (None, None, None, 7 2912        block12_sepconv3[0][0]           \n__________________________________________________________________________________________________\nadd_11 (Add)                    (None, None, None, 7 0           block12_sepconv3_bn[0][0]        \n                                                                 add_10[0][0]                     \n__________________________________________________________________________________________________\nblock13_sepconv1_act (Activatio (None, None, None, 7 0           add_11[0][0]                     \n__________________________________________________________________________________________________\nblock13_sepconv1 (SeparableConv (None, None, None, 7 536536      block13_sepconv1_act[0][0]       \n__________________________________________________________________________________________________\nblock13_sepconv1_bn (BatchNorma (None, None, None, 7 2912        block13_sepconv1[0][0]           \n__________________________________________________________________________________________________\nblock13_sepconv2_act (Activatio (None, None, None, 7 0           block13_sepconv1_bn[0][0]        \n__________________________________________________________________________________________________\nblock13_sepconv2 (SeparableConv (None, None, None, 1 752024      block13_sepconv2_act[0][0]       \n__________________________________________________________________________________________________\nblock13_sepconv2_bn (BatchNorma (None, None, None, 1 4096        block13_sepconv2[0][0]           \n__________________________________________________________________________________________________\nconv2d_4 (Conv2D)               (None, None, None, 1 745472      add_11[0][0]                     \n__________________________________________________________________________________________________\nblock13_pool (MaxPooling2D)     (None, None, None, 1 0           block13_sepconv2_bn[0][0]        \n__________________________________________________________________________________________________\nbatch_normalization_4 (BatchNor (None, None, None, 1 4096        conv2d_4[0][0]                   \n__________________________________________________________________________________________________\nadd_12 (Add)                    (None, None, None, 1 0           block13_pool[0][0]               \n                                                                 batch_normalization_4[0][0]      \n__________________________________________________________________________________________________\nblock14_sepconv1 (SeparableConv (None, None, None, 1 1582080     add_12[0][0]                     \n__________________________________________________________________________________________________\nblock14_sepconv1_bn (BatchNorma (None, None, None, 1 6144        block14_sepconv1[0][0]           \n__________________________________________________________________________________________________\nblock14_sepconv1_act (Activatio (None, None, None, 1 0           block14_sepconv1_bn[0][0]        \n__________________________________________________________________________________________________\nblock14_sepconv2 (SeparableConv (None, None, None, 2 3159552     block14_sepconv1_act[0][0]       \n__________________________________________________________________________________________________\nblock14_sepconv2_bn (BatchNorma (None, None, None, 2 8192        block14_sepconv2[0][0]           \n__________________________________________________________________________________________________\nblock14_sepconv2_act (Activatio (None, None, None, 2 0           block14_sepconv2_bn[0][0]        \n__________________________________________________________________________________________________\nbatch_normalization_5 (BatchNor (None, None, None, 2 8192        block14_sepconv2_act[0][0]       \n__________________________________________________________________________________________________\nglobal_average_pooling2d_1 (Glo (None, 2048)         0           batch_normalization_5[0][0]      \n__________________________________________________________________________________________________\ndropout_1 (Dropout)             (None, 2048)         0           global_average_pooling2d_1[0][0] \n__________________________________________________________________________________________________\ndense_1 (Dense)                 (None, 1024)         2098176     dropout_1[0][0]                  \n__________________________________________________________________________________________________\ndropout_2 (Dropout)             (None, 1024)         0           dense_1[0][0]                    \n__________________________________________________________________________________________________\ndense_2 (Dense)                 (None, 20)           20500       dropout_2[0][0]                  \n==================================================================================================\nTotal params: 22,988,348\nTrainable params: 2,122,772\nNon-trainable params: 20,865,576\n__________________________________________________________________________________________________\n"
        }
      ]
    },
    {
      "cell_type": "code",
      "metadata": {
        "id": "LRLU8LxCUn4K",
        "colab_type": "code",
        "colab": {}
      },
      "source": [
        "optimizer = RMSprop(lr=0.001, rho=0.9)\n",
        "model.compile(optimizer=optimizer,\n",
        "              loss='categorical_crossentropy',\n",
        "              metrics=[\"accuracy\"])"
      ],
      "execution_count": 4,
      "outputs": []
    },
    {
      "cell_type": "code",
      "metadata": {
        "id": "9LmS2imjUsTq",
        "colab_type": "code",
        "colab": {}
      },
      "source": [
        "from keras.preprocessing.image import ImageDataGenerator\n",
        "\n",
        "train_datagen = ImageDataGenerator(rescale=1. / 255,\n",
        "                                   rotation_range=20,\n",
        "                                   width_shift_range=0.2,\n",
        "                                   height_shift_range=0.2,\n",
        "                                   shear_range=0.2,\n",
        "                                   zoom_range=0.25,\n",
        "                                   horizontal_flip=True,\n",
        "                                   fill_mode='nearest')\n",
        "\n",
        "test_datagen = ImageDataGenerator(rescale=1. / 255)\n",
        "\n",
        "train_set = train_datagen.flow_from_directory(\n",
        "    root_path+'train/',\n",
        "    target_size=(img_width, img_height),\n",
        "    batch_size=8,\n",
        "    class_mode='categorical',)\n",
        "\n",
        "test_set = test_datagen.flow_from_directory(\n",
        "    root_path+'val',\n",
        "    target_size=(img_width, img_height),\n",
        "    batch_size=8,\n",
        "    class_mode='categorical',)"
      ],
      "execution_count": 5,
      "outputs": [
        {
          "output_type": "stream",
          "name": "stdout",
          "text": "Found 1873 images belonging to 20 classes.\nFound 477 images belonging to 20 classes.\n"
        }
      ]
    },
    {
      "cell_type": "code",
      "metadata": {
        "id": "X1HD8UOozPE9",
        "colab_type": "code",
        "colab": {}
      },
      "source": [
        "from keras.callbacks import ModelCheckpoint\n",
        "my_callback = [ModelCheckpoint('cats_and_dogs.h5',save_best_only=True,monitor='val_accuracy')]"
      ],
      "execution_count": 6,
      "outputs": []
    },
    {
      "cell_type": "code",
      "execution_count": 7,
      "metadata": {},
      "outputs": [],
      "source": [
        "from PIL import ImageFile\n",
        "ImageFile.LOAD_TRUNCATED_IMAGES = True"
      ]
    },
    {
      "cell_type": "code",
      "metadata": {
        "id": "A8Ws_YZeU00k",
        "colab_type": "code",
        "outputId": "566302da-68b3-4c48-c113-07666823269c",
        "colab": {
          "base_uri": "https://localhost:8080/",
          "height": 353
        }
      },
      "source": [
        "hist = model.fit_generator(\n",
        "    train_set,\n",
        "    steps_per_epoch= train_set.samples // train_set.batch_size,\n",
        "    epochs=5,\n",
        "    validation_data=test_set,\n",
        "    validation_steps=test_set.samples // test_set.batch_size,\n",
        "    callbacks = my_callback)"
      ],
      "execution_count": 8,
      "outputs": [
        {
          "output_type": "stream",
          "name": "stdout",
          "text": "Epoch 1/5\n234/234 [==============================] - 256s 1s/step - loss: 1.0065 - accuracy: 0.7035 - val_loss: 0.5078 - val_accuracy: 0.7627\nEpoch 2/5\n234/234 [==============================] - 245s 1s/step - loss: 0.7512 - accuracy: 0.7979 - val_loss: 0.6626 - val_accuracy: 0.8081\nEpoch 3/5\n234/234 [==============================] - 223s 952ms/step - loss: 0.7196 - accuracy: 0.8177 - val_loss: 0.4831 - val_accuracy: 0.8081\nEpoch 4/5\n234/234 [==============================] - 213s 911ms/step - loss: 0.7145 - accuracy: 0.8241 - val_loss: 0.7732 - val_accuracy: 0.6546\nEpoch 5/5\n234/234 [==============================] - 239s 1s/step - loss: 0.6472 - accuracy: 0.8413 - val_loss: 0.3366 - val_accuracy: 0.8188\n"
        }
      ]
    },
    {
      "cell_type": "code",
      "execution_count": 9,
      "metadata": {},
      "outputs": [
        {
          "output_type": "stream",
          "name": "stdout",
          "text": "Best val_accuracy: 81.9%\n"
        }
      ],
      "source": [
        "bst_val_acc = max(hist.history['val_accuracy'])\n",
        "print(\"Best val_accuracy: {:.1%}\".format(bst_val_acc))"
      ]
    },
    {
      "cell_type": "code",
      "execution_count": 16,
      "metadata": {},
      "outputs": [],
      "source": [
        "# we chose to train the top 2 xception blocks, i.e. we will freeze the first 116 layers and unfreeze the rest:\n",
        "for layer in model.layers[:36]:\n",
        "    layer.trainable = False\n",
        "for layer in model.layers[36:]:\n",
        "    layer.trainable = True"
      ]
    },
    {
      "cell_type": "code",
      "execution_count": 17,
      "metadata": {},
      "outputs": [],
      "source": [
        "model.compile(optimizer=SGD(lr=0.0001, momentum=0.9),\n",
        "              loss='categorical_crossentropy',\n",
        "              metrics=[\"accuracy\"])"
      ]
    },
    {
      "cell_type": "code",
      "execution_count": 21,
      "metadata": {},
      "outputs": [
        {
          "output_type": "stream",
          "name": "stdout",
          "text": "Epoch 1/5\n234/234 [==============================] - 411s 2s/step - loss: 0.2460 - accuracy: 0.9239 - val_loss: 0.0107 - val_accuracy: 0.9364\nEpoch 2/5\n234/234 [==============================] - 443s 2s/step - loss: 0.2312 - accuracy: 0.9282 - val_loss: 0.2481 - val_accuracy: 0.9382\nEpoch 3/5\n234/234 [==============================] - 410s 2s/step - loss: 0.2439 - accuracy: 0.9249 - val_loss: 0.0090 - val_accuracy: 0.9382\nEpoch 4/5\n234/234 [==============================] - 410s 2s/step - loss: 0.2268 - accuracy: 0.9340 - val_loss: 0.9261 - val_accuracy: 0.9360\nEpoch 5/5\n234/234 [==============================] - 409s 2s/step - loss: 0.2009 - accuracy: 0.9399 - val_loss: 7.3092e-04 - val_accuracy: 0.9382\n"
        }
      ],
      "source": [
        "hist = model.fit_generator(\n",
        "    train_set,\n",
        "    steps_per_epoch= train_set.samples // train_set.batch_size,\n",
        "    epochs=5,\n",
        "    validation_data=test_set,\n",
        "    validation_steps=test_set.samples // test_set.batch_size,\n",
        "    callbacks=my_callback)"
      ]
    },
    {
      "cell_type": "code",
      "execution_count": 22,
      "metadata": {},
      "outputs": [
        {
          "output_type": "stream",
          "name": "stdout",
          "text": "Best val_accuracy: 93.8%\n"
        }
      ],
      "source": [
        "bst_val_acc = max(hist.history['val_accuracy'])\n",
        "print(\"Best val_accuracy: {:.1%}\".format(bst_val_acc))"
      ]
    },
    {
      "cell_type": "markdown",
      "metadata": {},
      "source": [
        "## Save the trained model"
      ]
    },
    {
      "cell_type": "code",
      "execution_count": 23,
      "metadata": {},
      "outputs": [],
      "source": [
        "model.save('cats_and_dogs.h5')"
      ]
    },
    {
      "cell_type": "markdown",
      "metadata": {},
      "source": [
        "## Dump classes dictionary to pickle file"
      ]
    },
    {
      "cell_type": "code",
      "metadata": {
        "id": "q3HdPglZXLnM",
        "colab_type": "code",
        "colab": {}
      },
      "source": [
        "import pickle\n",
        "classes = train_set.class_indices\n",
        "f = open('dict.pkl','wb')\n",
        "pickle.dump(classes,f)\n",
        "f.close()"
      ],
      "execution_count": 15,
      "outputs": []
    }
  ],
  "metadata": {
    "colab": {
      "name": "cats_and_dogs_classifier",
      "provenance": [],
      "collapsed_sections": []
    },
    "kernelspec": {
      "name": "python37764bitkerasgpuconda9fd380ab6a0b49d591057a51ddb5deca",
      "display_name": "Python 3.7.7 64-bit ('keras-gpu': conda)"
    },
    "accelerator": "GPU"
  },
  "nbformat": 4,
  "nbformat_minor": 0
}